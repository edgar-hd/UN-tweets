{
 "cells": [
  {
   "cell_type": "markdown",
   "metadata": {},
   "source": [
    "# Analysis of tweets involving the hashtag \"#UN\"\n",
    "## Contents:\n",
    "- [Motivation](#motivation)\n",
    "- [Data acquisition and classification (.py files)](#acquisition-classification)\n",
    "    * [Collecting tweets using snscrape](#collecting)\n",
    "    * [Sentiment analysis using NLP (transformers)](#sentiment)\n",
    "- [Importing and formating data](#import-format)\n",
    "- [Visualising raw data](#visualise-raw)\n",
    "- [Sliding Window (exponential smoothing)](#sliding-window)\n",
    "- [Finding Keywords](#find-keywords)\n",
    "    * [Cleaning the data](#cleaning)\n",
    "    * [Selecting and recording recurrent words](#selecting)\n",
    "- [Finding \"biggest\" trends: PCA](#find-PCA)\n",
    "    * [All tweets](#all-PCA)\n",
    "    * [Positive tweets](#positive-PCA)\n",
    "- [Finding \"biggest\" trends: Hierarchical Clustering](#find-clustering)\n",
    "- [Topic lifetime (Random Forests)](#lifetime)\n",
    "- [Summary](#summary)"
   ]
  },
  {
   "cell_type": "markdown",
   "metadata": {},
   "source": [
    "## Motivation <a class=\"anchor\" id=\"motivation\"></a>\n",
    "\n",
    "NOTE: Written on 2nd of March 2022. Further edited and updated on the 12th of April 2022.\n",
    "\n",
    "In recent days I have found my twitter feed replete of news regarding the recent events taking place in Ukraine. While I follow some news outlets, most of the accounts I follow are either people I know or related to learning Japanese language. This trend made me curious as to how much twitter can be used to track world political events, and whether I could discover past political events using just twitter. I simplistically thought of which keyword could relate to such events and decided upon \"#UN\" relating to the United Nations. In principle this organisation was established to serve as a forum for discussion between nations and thus it would be reasonable that twitter users would reference the UN during major political world events (Official website: https://www.un.org/en/).\n",
    "\n",
    "I decided to work with a moderate dataset covering all tweets using \"#UN\" since January 2021 and see what results I could extract from there. Indeed as can be seen by the end of my analysis, it may now be sensible to include tweets tagging the user \"@UN\" or extending the time frame of my analysis. Nonetheless, as an initial pilot I am happy with the results.\n",
    "\n",
    "It is important to acknowledge that as analysis are made by humans, they will fundamentally be biased. I have made my greatest effort to be as unbiased as possible in my analysis and writing, while understanding that removing all bias is likely impossible. This may result in a somewhat dispassionate tone regarding major events which bring great suffering to many people, yet it is not the purpose of this project to bring about a political message and for that reason I find this approach the most appropriate."
   ]
  },
  {
   "cell_type": "markdown",
   "metadata": {},
   "source": [
    "## Data acquisition and classification (.py files) <a class=\"anchor\" id=\"acquisition-classification\"></a>\n",
    "\n",
    "### Collecting tweets using snscrape <a class=\"anchor\" id=\"collecting\"></a>\n",
    "\n",
    "I initially tried using the tweepy package which makes use of the official twitter API through a developer account. However, I found that unless one owns an academic account it is not possible to obtain a sizeable number of tweets without encountering download cap restrictions.\n",
    "\n",
    "I therefore explored a bit further and decided to use 'snscrape' (https://github.com/JustAnotherArchivist/snscrape) which does not require the creation of an account and does not restrict the amount of data that can be downloaded (or if it does I never reached such a limit). Note that one restriction of using snscrape is that as it lacks authentification with Twitter it is not possible to obtain user data regarding 'following' and 'followers'. Helpfully snscrape has also been packaged into python so I could import the package into python rather than run unix command lines.\n",
    "\n",
    "NOTE: The code below is a regular \".py\" python script, and not usually a part of this notebook. I include it here simply to make evident my approach. For my chosen parameters, this script took about 2 hours to complete, obtaining tweets from approximately 400 days."
   ]
  },
  {
   "cell_type": "code",
   "execution_count": 1,
   "metadata": {},
   "outputs": [],
   "source": [
    "# proj1_script_a_collect_data.py\n",
    "\n",
    "import os\n",
    "import pandas as pd\n",
    "import numpy as np\n",
    "from datetime import datetime\n",
    "from dateutil.relativedelta import relativedelta\n",
    "import snscrape.modules.twitter as sntwitter\n",
    "from tqdm import tqdm\n",
    "\n",
    "# Use snscrape to collect tweets, more useful for this than the official twitter API as one isn't restricted in\n",
    "# how many tweets to download, etc.\n",
    "def get_tweets(init_date, end_date, query):\n",
    "    tweets_list = []\n",
    "    # Scrape data and append tweets to list\n",
    "    for i,tweet in enumerate(sntwitter.TwitterSearchScraper(\n",
    "        query + ' since:'+init_date+' until:'+end_date+'').get_items()):\n",
    "        if i>1000000:\n",
    "            print(\"Error: too many tweets\")\n",
    "            break\n",
    "        tweets_list.append([tweet.date, tweet.id, tweet.content, tweet.user.username, tweet.user.id, tweet.lang])\n",
    "    # Labelling\n",
    "    tweets_df = pd.DataFrame(tweets_list, columns=['Datetime', 'Tweet Id', 'Text', 'Username', 'User Id', 'Language'])\n",
    "    \n",
    "    return(tweets_df)\n",
    "\n",
    "# Set up regular time intervals to download tweets, just useful to cut up the data as one can then easily collect\n",
    "# more data in the future or past, also in case there's an error it would only affect one file out of many, and\n",
    "# make it easier to pinpoint what happened.\n",
    "def get_date_range(start_date,sectSize):\n",
    "    # start_date = '20210101'\n",
    "    date_format = '%Y%m%d'\n",
    "    dtObj = datetime.strptime(start_date, date_format)\n",
    "    numDays = datetime.today().date()-dtObj.date()\n",
    "#     sectSize = 10\n",
    "    numSections = np.floor(numDays.days/sectSize).astype(np.int16)\n",
    "    \n",
    "    # Make sure data is properly labelled by time for future reference and to incorporate with more data\n",
    "    dateList = [(dtObj + relativedelta(days=i*sectSize)).date() for i in range(numSections)]\n",
    "    dateList_string = [dateList[i].strftime(date_format)+'-'\n",
    "                       +(dateList[i]+relativedelta(days=sectSize)).strftime(date_format) for i in range(len(dateList))]\n",
    "    return(dateList,dateList_string)\n",
    "\n",
    "# Collect and save the tweets into CSV\n",
    "def collect_save_tweets(dateList, dateList_string,query):\n",
    "    for i in tqdm(range(len(dateList))):\n",
    "        sect_tweets = get_tweets(str(dateList[i]),str(dateList[i]+relativedelta(days=sectSize)),query)\n",
    "        sect_tweets.to_csv('data_tweets/un_mentions_'+dateList_string[i]+\".csv\",\n",
    "                            index=False)\n",
    "\n",
    "if not os.path.exists('data_tweets'): os.makedirs('data_tweets')\n",
    "# This takes about 2 hours for approx 400 days, roughly 200 days/hour\n",
    "dateList, dateList_string = get_date_range('20210101', 10)\n",
    "collect_save_tweets(dateList, dateList_string, \"#UN\")"
   ]
  },
  {
   "cell_type": "markdown",
   "metadata": {},
   "source": [
    "### Sentiment analysis using NLP (transformers) <a class=\"anchor\" id=\"sentiment\"></a>\n",
    "I took a course on NLP processing and got an understanding of what tools are out there and what they can be used for. When looking at the tweets I had collected I reasoned that they are ideal for sentiment classification because by construction Tweets limited by the number of characters, which should make sentiment classification easier.\n",
    "\n",
    "I accessed the fabulous resource \"Hugging Face\" (https://huggingface.co/) which provides pre-trained models and datasets for training, and downloaded one of the most popular sentiment classification models, trained specifically on Twitter data: https://huggingface.co/cardiffnlp/twitter-roberta-base-sentiment.\n",
    "\n",
    "I performed some initial tests on my tweets where I observed the results from the classifier into Neutral, Positive or Negative and subjectively decided whether the classification is accurate. I found it to be the case and thus did not find it necessary to train the data further. It is possible that I could make the classifier more accurate and Hugging Face provides an easy setup to training models on new data, but I decided that the gains would be minimal and as with many deep learning models I may need to provide many new training examples to significantly improve the model which is not really the aim of this project, especially as the provided model already performs very well.\n",
    "\n",
    "NOTE: The code below is a regular \".py\" python script, and not usually a part of this notebook. I include it here simply to make evident my approach. This script took about 4 hours to finish for my chosen date range and parameters."
   ]
  },
  {
   "cell_type": "code",
   "execution_count": 1,
   "metadata": {},
   "outputs": [],
   "source": [
    "# proj1_script_b_classify_sentiment.py\n",
    "\n",
    "import os\n",
    "import numpy as np\n",
    "import pandas as pd\n",
    "import re\n",
    "from tqdm import tqdm\n",
    "\n",
    "# Libraries from Huggingface to download the transformer and classify in a simple way\n",
    "from transformers import AutoModelForSequenceClassification\n",
    "from transformers import TFAutoModelForSequenceClassification\n",
    "from transformers import AutoTokenizer\n",
    "from scipy.special import softmax\n",
    "import csv\n",
    "import urllib.request\n",
    "\n",
    "# Preprocess text (username and link placeholders)\n",
    "def preprocess(text):\n",
    "    new_text = []\n",
    " \n",
    "    for t in text.split(\" \"):\n",
    "        t = '@user' if t.startswith('@') and len(t) > 1 else t\n",
    "        t = 'http' if t.startswith('http') else t\n",
    "        new_text.append(t)\n",
    "    return \" \".join(new_text)\n",
    "\n",
    "# Tasks: emoji, emotion, hate, irony, offensive, sentiment\n",
    "# stance/abortion, stance/atheism, stance/climate, stance/feminist, stance/hillary\n",
    "\n",
    "task='sentiment'\n",
    "MODEL = f\"cardiffnlp/twitter-roberta-base-{task}\"\n",
    "\n",
    "tokenizer = AutoTokenizer.from_pretrained(MODEL)\n",
    "# tokenizer = AutoTokenizer.from_pretrained(\"../twitter-roberta-base-sentiment\")\n",
    "\n",
    "# download label mapping\n",
    "labels=[]\n",
    "mapping_link = f\"https://raw.githubusercontent.com/cardiffnlp/tweeteval/main/datasets/{task}/mapping.txt\"\n",
    "with urllib.request.urlopen(mapping_link) as f:\n",
    "    html = f.read().decode('utf-8').split(\"\\n\")\n",
    "    csvreader = csv.reader(html, delimiter='\\t')\n",
    "labels = [row[1] for row in csvreader if len(row) > 1]\n",
    "\n",
    "# PT\n",
    "model = AutoModelForSequenceClassification.from_pretrained(MODEL)\n",
    "# model.save_pretrained(MODEL)\n",
    "# model = AutoModelForSequenceClassification.from_pretrained(\"../twitter-roberta-base-sentiment\")\n",
    "\n",
    "def get_sentiment_tweet(text_input):\n",
    "    text = preprocess(text_input)\n",
    "    encoded_input = tokenizer(text, return_tensors='pt')\n",
    "    output = model(**encoded_input)\n",
    "    scores = output[0][0].detach().numpy()\n",
    "    scores = softmax(scores)\n",
    "    return(scores)\n",
    "\n",
    "def get_list_files(tweet_dir):\n",
    "    list_files_raw = np.array(os.listdir(tweet_dir))\n",
    "    list_files = np.sort(list_files_raw[['un_mentions_202' in file for file in list_files_raw]])\n",
    "    return(list_files)\n",
    "\n",
    "tweet_dir = 'data_tweets/'\n",
    "list_files = get_list_files(tweet_dir)\n",
    "list_files = [list_files[-1]]\n",
    "\n",
    "# Get tweet list, classify them using the sentiment trained transformer and save as csv\n",
    "# This will take about 4 hours\n",
    "for file in tqdm(list_files):\n",
    "    raw_data = pd.read_csv(tweet_dir+file,lineterminator='\\n')\n",
    "    list_tweets = raw_data[raw_data['Language'] == 'en'].reset_index(drop=True)\n",
    "    sentiment_list = pd.DataFrame([get_sentiment_tweet(tweet) for tweet in tqdm(list_tweets['Text'])])\n",
    "    list_tweets[['Negative','Neutral','Positive']] = sentiment_list\n",
    "    list_tweets.to_csv(tweet_dir + re.sub('un_mentions','un_mentions_processed',file),index=False)\n"
   ]
  },
  {
   "cell_type": "markdown",
   "metadata": {},
   "source": [
    "## Importing and formating data <a class=\"anchor\" id=\"import-format\"></a>\n",
    "I import the CSV data and proceed to assign each tweet a sentiment from our previous results as they seem to be relatively conclusive with minimal errors. I also rearrange the dataframe slightly and remove 'https' from the tweets as I will not be at the moment analysing which websites tweets direct to, often these addresses simply relate to the location of an attached image. I make some effort to remove bot tweets by removing duplicate tweets, this does not work on more sophisticated bots that use deep learning to redact similar but different tweets will escape this process. In a sense if an effort is made to buy/produce such bots it may be worth recording as a \"feature\" rather than a \"bug\"."
   ]
  },
  {
   "cell_type": "code",
   "execution_count": 1,
   "metadata": {},
   "outputs": [],
   "source": [
    "import os\n",
    "import numpy as np\n",
    "import pandas as pd\n",
    "import re\n",
    "import seaborn as sns\n",
    "import matplotlib.pyplot as plt\n",
    "\n",
    "import datetime\n",
    "from dateutil.relativedelta import relativedelta\n",
    "from tqdm.notebook import tqdm_notebook"
   ]
  },
  {
   "cell_type": "code",
   "execution_count": 2,
   "metadata": {},
   "outputs": [],
   "source": [
    "def simplify_dates(datasetT):\n",
    "    datasetT['Datetime'] = [datetime.datetime.strptime(re.sub('\\+00:00','',i), date_format) for i in datasetT['Datetime']]\n",
    "    return datasetT\n",
    "    \n",
    "def round_sentiments(datasetT):\n",
    "    datasetT[['Negative','Neutral','Positive']] = np.rint(datasetT[['Negative','Neutral','Positive']])\n",
    "    return datasetT"
   ]
  },
  {
   "cell_type": "code",
   "execution_count": 3,
   "metadata": {},
   "outputs": [],
   "source": [
    "# This function imports the dataset and tidies up the sentiments a bit\n",
    "def get_cleaned_df(file_read):\n",
    "    dataset = pd.read_csv(file_read,lineterminator='\\n')\n",
    "    dataset = simplify_dates(dataset)\n",
    "    dataset = round_sentiments(dataset)\n",
    "    dataset = dataset.iloc[::-1].reset_index(drop=True)\n",
    "    return dataset"
   ]
  },
  {
   "cell_type": "code",
   "execution_count": 4,
   "metadata": {},
   "outputs": [],
   "source": [
    "# I found it easier to just have a single column with the sentiment associated to that tweet\n",
    "def tidy_data(tweetdir,list_files):\n",
    "    full_set = pd.concat([get_cleaned_df(tweet_dir + file) for file in list_files], ignore_index=True)\n",
    "    full_set['Text'] = [re.sub('https.*','', line) for line in full_set['Text']]\n",
    "    full_set = full_set.drop_duplicates(subset=['Text']).reset_index(drop=True)\n",
    "    sentiment_column = np.full(len(full_set),'        ')\n",
    "    sentiment_column[full_set['Negative'] == 1.0] = 'Negative'\n",
    "    sentiment_column[full_set['Positive'] == 1.0] = 'Positive'\n",
    "    sentiment_column[sentiment_column == '        '] = 'Neutral'\n",
    "    full_set.insert(6, \"Sentiment\", sentiment_column, True)\n",
    "    return(full_set)"
   ]
  },
  {
   "cell_type": "code",
   "execution_count": 5,
   "metadata": {},
   "outputs": [],
   "source": [
    "tweet_dir = './data_tweets/'\n",
    "date_format = '%Y-%m-%d %H:%M:%S'\n",
    "list_files_raw = np.array(os.listdir(tweet_dir))\n",
    "list_files = np.sort(list_files_raw[['un_mentions_processed' in file for file in list_files_raw]])\n",
    "full_set = tidy_data(tweet_dir,list_files)"
   ]
  },
  {
   "cell_type": "markdown",
   "metadata": {},
   "source": [
    "## Visualising raw data <a class=\"anchor\" id=\"visualise-raw\"></a>\n",
    "As a first approach, I thought it could be interesting to plot what time of the day and week tweets took place. According to a study by this blog called Bluffer (https://buffer.com/resources/best-time-to-tweet-research/), the most popular time to tweet is 13h. They have not really disclosed their data or overall approach for obtaining this data but seems to be consistent with other website's conclusions so I will take that as the baseline. Unfortunately snscrape does not provide the possibility to sort by timezone, therefore all the data I have collected is by default normalised to London GMT.\n",
    "\n",
    "Now when looking at the tweets I have collected, I can sort them out by sentiment, maybe negative or positive tweets have different schedules. Indeed there is research which suggests this is the case [Shah *et al*, (2019). *J Med Internet Res*. 21(5):e12881. https://doi.org/10.2196/12881 ]."
   ]
  },
  {
   "cell_type": "code",
   "execution_count": 6,
   "metadata": {},
   "outputs": [],
   "source": [
    "# Extract just the time and convert to hours\n",
    "def get_day_counts(input_set):\n",
    "    timeList = [timestamp.time() for timestamp in input_set]\n",
    "    list_in_day = np.array([(t.hour * 60 + t.minute) * 60 + t.second for t in timeList])/3600\n",
    "    return list_in_day\n",
    "\n",
    "# Convert to day of the week and put on a range from 0 to 7 depending on day and time.\n",
    "def get_week_counts(input_set):\n",
    "    dayList = np.array([timestamp.weekday() for timestamp in input_set])\n",
    "    list_in_week = dayList + get_day_counts(input_set)/24\n",
    "    return list_in_week\n",
    "\n",
    "# Get how many tweets happen in a week or day, to find patterns\n",
    "list_all_day = get_day_counts(full_set['Datetime'])\n",
    "list_all_week = get_week_counts(full_set['Datetime'])\n",
    "\n",
    "# Group into a single dataframe for convenience\n",
    "repeat_timescales = pd.concat([pd.DataFrame(list_all_day,columns=['Daily']),\n",
    "                               pd.DataFrame(list_all_week,columns=['Weekly']),\n",
    "                               full_set['Sentiment']],axis=1)"
   ]
  },
  {
   "cell_type": "code",
   "execution_count": 7,
   "metadata": {},
   "outputs": [
    {
     "data": {
      "image/png": "[encoded data removed]",
      "text/plain": [
       "<Figure size 1152x576 with 1 Axes>"
      ]
     },
     "metadata": {},
     "output_type": "display_data"
    }
   ],
   "source": [
    "sns.set(rc = {'figure.figsize':(16,8)})\n",
    "ax = sns.histplot(data=repeat_timescales, x='Daily', hue='Sentiment', stat=\"density\", element=\"step\")\n",
    "ax.set_xlim([0,24]);\n",
    "ax.set(xlabel='Time of the day', title='Distribution of tweets during the day');\n",
    "plt.axvline(15, color='k', linestyle='dashed', linewidth=1);\n",
    "plt.axvline(20, color='k', linestyle='dashed', linewidth=1);"
   ]
  },
  {
   "cell_type": "markdown",
   "metadata": {},
   "source": [
    "First of all it's evident that there are more negative tweets overall, followed by neutral tweets and then by positive tweets which constitute a small proportion of the overall number. The interpretations may be varied, as we cannot determine whether this means the users are overall more negative oriented, or informations and news coverage where users are informed are more negative, or actual events relating to the UN are more negative. It may be a combination of factors or other factors I have not considered, the answer to this question is beyond the scope of this project and I will limit to confirming that overall sentiments regarding the UN on twitter are more negative than positive.\n",
    "\n",
    "I find as expected that the distribution of tweets is not uniform throughout the day. Indeed the most popular time of the day is not too far off from what we expected. The two vertical bars indicate the ranges of noon in the US, this is relevant as analysis from the company Statista suggests there are more overall users in the US which as we have filtered by english language will affect our data (https://www.statista.com/statistics/242606/number-of-active-twitter-users-in-selected-countries/). What is somewhat more remarkable is a clear difference in time of the day tweeting for negative sentiment tweets involving the united nations. I do not find it necessary to fit a peak to this distribution as it is evident that the most popular time of day for negative tweers is roughly 17h GMT.\n",
    "\n",
    "One can make different hypotheses as to why this may be the case, maybe people have just spent some time reading the news are more irritable, whereas earlier on they have not yet read the news. Alternatively it may be that Europeans (at an earlier time zone) tweet more negatively. It would be difficult for me to pinpoint the reason, the work highlighted above outlines a different distribution for negative tweets, which suggests this may be something specific to the tweets we have collected or that these tweets are a subset of some other, greater overall trend. In future it would be sensible to compare with other hashtags that relate to world political events, to find whether this is a general feature of tweets in this topic.\n",
    "\n",
    "I perform below a simple \"Skewness\" analysis on the data which will indicate how much the data deviates from a normal distribution in a particular direction. This is simply the 3rd standardized moment, and serves as a sanity check to what we see above, in a similar way as the mean or variance serve similar purposes: https://en.wikipedia.org/wiki/Standardized_moment. We find with negative skewness that all distributions are shifted to the right, with the Negative sentiment distribution shifted substantially more to the right as indicated by the greater absolute value of its skewness."
   ]
  },
  {
   "cell_type": "code",
   "execution_count": 8,
   "metadata": {},
   "outputs": [
    {
     "name": "stdout",
     "output_type": "stream",
     "text": [
      "Neutral skewness: -0.2\n",
      "Positive skewness: -0.2\n",
      "Negative skewness :-0.35\n"
     ]
    }
   ],
   "source": [
    "from scipy.stats import skew\n",
    "\n",
    "def get_skewness(sentiment):\n",
    "    return str(np.round(skew(repeat_timescales[repeat_timescales['Sentiment'] == sentiment]['Daily']),2))\n",
    "\n",
    "print('Neutral skewness: '+get_skewness('Neutral'))\n",
    "print('Positive skewness: '+get_skewness('Positive'))\n",
    "print('Negative skewness :'+get_skewness('Negative'))"
   ]
  },
  {
   "cell_type": "markdown",
   "metadata": {},
   "source": [
    "I then perform a similar analysis on data ordered by days of the week. First one can note that the trend seen above relating to later than average negative tweets is preserved in this day-specific figure. When analysing the days of the week, one can see that there is less activity on Saturdays and Sundays compared to the rest of the week. The study cited above has not found such a difference. As above it may be worth investigating if this is a trend relating to political tweets. I am not a sociologist, one speculative explanation could be that maybe users feel less engaged on the weekend when they spend time relaxing, but I would not make any ascertations from this data without consulting someone more educated on these matters."
   ]
  },
  {
   "cell_type": "code",
   "execution_count": 9,
   "metadata": {},
   "outputs": [
    {
     "data": {
      "image/png": "[encoded data removed]",
      "text/plain": [
       "<Figure size 1152x576 with 1 Axes>"
      ]
     },
     "metadata": {},
     "output_type": "display_data"
    }
   ],
   "source": [
    "sns.set(rc = {'figure.figsize':(16,8)})\n",
    "wPlot = sns.histplot(data=repeat_timescales, x='Weekly', hue='Sentiment', stat=\"density\", element=\"step\",)\n",
    "wPlot.set_xticks(np.arange(0.5,7.5,1))\n",
    "wPlot.set_xticklabels(['Monday','Tuesday','Wednesday','Thursday','Friday','Saturday','Sunday']);\n",
    "wPlot.set_xlim([0,7]);\n",
    "wPlot.set(title='Distribution of tweets during the week');"
   ]
  },
  {
   "cell_type": "markdown",
   "metadata": {},
   "source": [
    "## Sliding Window (exponential smoothing) <a class=\"anchor\" id=\"sliding-window\"></a>\n",
    "\n",
    "I apply what is often termed a \"sliding window\" which is useful for smoothing out the data, but also in organising the data into more manageable time slots. I then apply exponential smoothing with an arbitrarly chosen alpha of 0.1 to further smooth out the data. This is a relatively common technique, and while there are packages for implementing it, I often find it more versatile to implement it myself. For this dataset I've chose a sliding window of 72h and a step size for the window to slide of 1h, this feels like overkill as it will be a very fine-grained analysis, but it's still manageable for this size of dataset."
   ]
  },
  {
   "cell_type": "code",
   "execution_count": 16,
   "metadata": {},
   "outputs": [],
   "source": [
    "# I use a sliding window to smooth out the data and analyse time intervals easier\n",
    "def get_sliding_window_pos(start_date_string, window_size, step_size):\n",
    "    num_hours = 24*(full_set['Datetime'].iloc[-1].date() - full_set['Datetime'].iloc[0].date() + datetime.timedelta(days = 1)).days\n",
    "    start_date = datetime.datetime.strptime(start_date_string, date_format)\n",
    "    window_index = np.array([[start_date + relativedelta(hours=i), \n",
    "                     start_date + relativedelta(hours=i*step_size) + relativedelta(hours=window_size)]\n",
    "                    for i in range(num_hours - window_size)])\n",
    "    return(window_index)"
   ]
  },
  {
   "cell_type": "code",
   "execution_count": 17,
   "metadata": {},
   "outputs": [],
   "source": [
    "# This function collects the number of overall, as well as sentiment specific tweets on the sliding window\n",
    "def get_window_number_exp_smth(window_index, alpha):\n",
    "    window_index_result = []\n",
    "    all_tweet_num = []\n",
    "    for window_pos in tqdm_notebook(window_index):\n",
    "        window_index_result.append((window_pos[0] <= full_set['Datetime']) & (full_set['Datetime']  < window_pos[1]))\n",
    "        window_tweets = full_set[(window_pos[0] <= full_set['Datetime']) & (full_set['Datetime']  < window_pos[1])]\n",
    "        prev_weight = (all_tweet_num[-1] if len(all_tweet_num)>0 else [0,0,0,0,0])\n",
    "        tot_tweets = alpha*len(window_tweets) + (1-alpha)*prev_weight[1]\n",
    "        neg_tweets = alpha*len(window_tweets[window_tweets['Sentiment'] == 'Negative']) + (1 - alpha)*prev_weight[2]\n",
    "        neu_tweets = alpha*len(window_tweets[window_tweets['Sentiment'] == 'Neutral']) + (1 - alpha)*prev_weight[3]\n",
    "        pos_tweets = alpha*len(window_tweets[window_tweets['Sentiment'] == 'Positive']) + (1 - alpha)*prev_weight[4]\n",
    "        all_tweet_num.append([window_pos[1],tot_tweets,neg_tweets,neu_tweets,pos_tweets])\n",
    "    all_tweet_num = pd.DataFrame(all_tweet_num)\n",
    "    all_tweet_num.set_axis(['Datetime', 'All', 'Negative', 'Neutral', 'Positive'], axis=1, inplace=True)\n",
    "    return (all_tweet_num, window_index_result)"
   ]
  },
  {
   "cell_type": "code",
   "execution_count": 18,
   "metadata": {},
   "outputs": [
    {
     "data": {
      "application/vnd.jupyter.widget-view+json": {
       "model_id": "653f482c33714a0fb3df916875fdf6c0",
       "version_major": 2,
       "version_minor": 0
      },
      "text/plain": [
       "  0%|          | 0/11112 [00:00<?, ?it/s]"
      ]
     },
     "metadata": {},
     "output_type": "display_data"
    }
   ],
   "source": [
    "# proj1_script_c_get_sliding_window.py\n",
    "\n",
    "start_date_string = '2021-01-01 00:00:00'\n",
    "window_index = get_sliding_window_pos(start_date_string, window_size = 72, step_size = 1)\n",
    "# window_tweet_num, window_index_result = get_window_number_sentiment(window_index)\n",
    "window_tweet_num_smth, window_index_result = get_window_number_exp_smth(window_index,0.1)"
   ]
  },
  {
   "cell_type": "markdown",
   "metadata": {},
   "source": [
    "One can then visualise the result of the sliding window, for example observing the number tweets over time, classified into different sentiments. A few peaks are already observable, and while one could already manually look into each specific peak and sort through the data to look for trends, I will perform a more automated approach which should then be easy to extrapolate to other datasets."
   ]
  },
  {
   "cell_type": "code",
   "execution_count": 19,
   "metadata": {},
   "outputs": [
    {
     "data": {
      "image/png": "[encoded data removed]",
      "text/plain": [
       "<Figure size 1152x576 with 1 Axes>"
      ]
     },
     "metadata": {},
     "output_type": "display_data"
    }
   ],
   "source": [
    "sns.set(rc = {'figure.figsize':(16,8)})\n",
    "fig, ax = plt.subplots()\n",
    "ax.stackplot(np.array(window_tweet_num_smth['Datetime']), np.array(window_tweet_num_smth[['Neutral','Negative','Positive']]).T,\n",
    "            labels = ['Neutral','Negative','Positive'])\n",
    "ax.set_xlim([datetime.datetime(2021, 1, 1), datetime.datetime(2022, 4, 30)]);\n",
    "ax.set(ylabel='Number of tweets in 72h', title='Tweet volume over time', label=[\"Fibonacci \", \"Evens\", \"Odds\"]);\n",
    "ax.legend(loc='upper left');"
   ]
  },
  {
   "cell_type": "markdown",
   "metadata": {},
   "source": [
    "## Finding keywords <a class=\"anchor\" id=\"find-keywords\"></a>\n",
    "### Cleaning the data <a class=\"anchor\" id=\"cleaning\"></a>\n",
    "I make use of the nltk (natural language toolkit) in python as it saves me having to implement some standard natural processing functions. I can then tokenise data and remove stopwords (*ie* and, at, etc.) and punctuation marks to leave only the words I'm interested in. There are in adition a few other words that are not considered stopwords by nltk, instead of looking for further libraries, I realised there were not that many so I just removed them by hand. I also decide to make everything lowercase as many twitter users decide to use only underscores or only capital letters and I want to count those words as the same."
   ]
  },
  {
   "cell_type": "code",
   "execution_count": 20,
   "metadata": {},
   "outputs": [
    {
     "name": "stderr",
     "output_type": "stream",
     "text": [
      "[nltk_data] Downloading package stopwords to /home/eggman/nltk_data...\n",
      "[nltk_data]   Package stopwords is already up-to-date!\n",
      "[nltk_data] Downloading package punkt to /home/eggman/nltk_data...\n",
      "[nltk_data]   Package punkt is already up-to-date!\n"
     ]
    }
   ],
   "source": [
    "from nltk import word_tokenize\n",
    "from nltk.corpus import stopwords\n",
    "import nltk\n",
    "\n",
    "nltk.download('stopwords')\n",
    "nltk.download('punkt')\n",
    "\n",
    "import string\n",
    "stop = set(stopwords.words('english') + list(string.punctuation))\n",
    "stop.update(['’','https','un','amp','``',\"''\",\"'s\",'..','...',\"n't\",'--','”','–','//','“','like','also','put','ask','w/','unitednations'])\n",
    "\n",
    "def clean_sentence(sentence):\n",
    "    cleaned = [i for i in word_tokenize(sentence.lower()) if i not in stop]\n",
    "    return np.array(cleaned)"
   ]
  },
  {
   "cell_type": "code",
   "execution_count": 21,
   "metadata": {},
   "outputs": [
    {
     "data": {
      "application/vnd.jupyter.widget-view+json": {
       "model_id": "5e1359d216134447bec74dc2cfeac6e8",
       "version_major": 2,
       "version_minor": 0
      },
      "text/plain": [
       "  0%|          | 0/268493 [00:00<?, ?it/s]"
      ]
     },
     "metadata": {},
     "output_type": "display_data"
    },
    {
     "name": "stderr",
     "output_type": "stream",
     "text": [
      "/tmp/ipykernel_260887/1166846965.py:1: VisibleDeprecationWarning: Creating an ndarray from ragged nested sequences (which is a list-or-tuple of lists-or-tuples-or ndarrays with different lengths or shapes) is deprecated. If you meant to do this, you must specify 'dtype=object' when creating the ndarray.\n",
      "  words_List = np.array([clean_sentence(text) for text in tqdm_notebook(full_set['Text'])])\n"
     ]
    }
   ],
   "source": [
    "words_List = np.array([clean_sentence(text) for text in tqdm_notebook(full_set['Text'])])"
   ]
  },
  {
   "cell_type": "code",
   "execution_count": 22,
   "metadata": {},
   "outputs": [],
   "source": [
    "from collections import Counter\n",
    "import sys"
   ]
  },
  {
   "cell_type": "markdown",
   "metadata": {},
   "source": [
    "### Selecting and recording recurrent words <a class=\"anchor\" id=\"selecting\"></a>\n",
    "I make a word list, in order to not take every word that appears but still be thorough, I take any word that appeared at least a fixed amount of times at any point in the 72h sliding window. All of these words will not be analised but it could be useful to see if some words appeared at all outside of when they appeared in great numbers. This number can be reduced to reduce analysis time, especially with bigger datasets. With the current parameters this step takes approximately 7 minutes."
   ]
  },
  {
   "cell_type": "code",
   "execution_count": 23,
   "metadata": {},
   "outputs": [],
   "source": [
    "def get_top10_progression(condition, top10_words, alpha):\n",
    "\n",
    "    top10_dyn = Counter(np.hstack(words_List[window_index_result[0] & condition]))\n",
    "    top10_dyn = [np.array([top10_dyn.get(key,0) for key in top10_words])]\n",
    "    \n",
    "    for index in tqdm_notebook(window_index_result[1:]):\n",
    "        dict_index = Counter(np.hstack(words_List[index & condition]))\n",
    "        temp_vals = np.array([dict_index.get(key,0) for key in top10_words])\n",
    "        top10_dyn.append(alpha*temp_vals + (1-alpha)*top10_dyn[-1])\n",
    "        \n",
    "    return(np.array(top10_dyn))"
   ]
  },
  {
   "cell_type": "code",
   "execution_count": 24,
   "metadata": {},
   "outputs": [],
   "source": [
    "def get_top10_window(condition, min_times, alpha):\n",
    "    top10_list = set()\n",
    "    for window_pos in tqdm_notebook(window_index_result):\n",
    "        top_words = Counter(np.hstack(words_List[window_pos & condition])).most_common(10)\n",
    "        top_words = [tup[0] for tup in top_words if tup[1] >= min_times]\n",
    "        top10_list.update(top_words)\n",
    "\n",
    "    top10_list = list(dict.fromkeys(top10_list))\n",
    "    top10_dyn = get_top10_progression(condition, top10_list, alpha)\n",
    "    \n",
    "    return(top10_list, top10_dyn)"
   ]
  },
  {
   "cell_type": "markdown",
   "metadata": {},
   "source": [
    "I then obtain the top 10 words at each position along the sliding window, I decided to go by top words rather than above a certain threshold in order to detect even small peaks that may not have the impact of very tweeted about news but still be significant. I further obtain how those words have appeared over time in the timeframe of the data."
   ]
  },
  {
   "cell_type": "code",
   "execution_count": null,
   "metadata": {},
   "outputs": [
    {
     "data": {
      "application/vnd.jupyter.widget-view+json": {
       "model_id": "8ceac85b16db4047b9d0be1b9fc0a21f",
       "version_major": 2,
       "version_minor": 0
      },
      "text/plain": [
       "  0%|          | 0/11112 [00:00<?, ?it/s]"
      ]
     },
     "metadata": {},
     "output_type": "display_data"
    },
    {
     "data": {
      "application/vnd.jupyter.widget-view+json": {
       "model_id": "3f5cb7aa163243029edd24c841942e38",
       "version_major": 2,
       "version_minor": 0
      },
      "text/plain": [
       "  0%|          | 0/11111 [00:00<?, ?it/s]"
      ]
     },
     "metadata": {},
     "output_type": "display_data"
    },
    {
     "data": {
      "application/vnd.jupyter.widget-view+json": {
       "model_id": "110778cbb97b4929921c132c129be882",
       "version_major": 2,
       "version_minor": 0
      },
      "text/plain": [
       "  0%|          | 0/11112 [00:00<?, ?it/s]"
      ]
     },
     "metadata": {},
     "output_type": "display_data"
    },
    {
     "data": {
      "application/vnd.jupyter.widget-view+json": {
       "model_id": "03a3ecc991484949862167d565c90779",
       "version_major": 2,
       "version_minor": 0
      },
      "text/plain": [
       "  0%|          | 0/11111 [00:00<?, ?it/s]"
      ]
     },
     "metadata": {},
     "output_type": "display_data"
    },
    {
     "data": {
      "application/vnd.jupyter.widget-view+json": {
       "model_id": "9be46864d4ad41bd822466068113339d",
       "version_major": 2,
       "version_minor": 0
      },
      "text/plain": [
       "  0%|          | 0/11112 [00:00<?, ?it/s]"
      ]
     },
     "metadata": {},
     "output_type": "display_data"
    },
    {
     "data": {
      "application/vnd.jupyter.widget-view+json": {
       "model_id": "6c9d77786b5d4dffb4cd12198ac8ea06",
       "version_major": 2,
       "version_minor": 0
      },
      "text/plain": [
       "  0%|          | 0/11111 [00:00<?, ?it/s]"
      ]
     },
     "metadata": {},
     "output_type": "display_data"
    },
    {
     "data": {
      "application/vnd.jupyter.widget-view+json": {
       "model_id": "6813aa19dccb4596ba98906a033cac4a",
       "version_major": 2,
       "version_minor": 0
      },
      "text/plain": [
       "  0%|          | 0/11112 [00:00<?, ?it/s]"
      ]
     },
     "metadata": {},
     "output_type": "display_data"
    },
    {
     "data": {
      "application/vnd.jupyter.widget-view+json": {
       "model_id": "e1cd28f18a854e86a926c10e07b43c22",
       "version_major": 2,
       "version_minor": 0
      },
      "text/plain": [
       "  0%|          | 0/11111 [00:00<?, ?it/s]"
      ]
     },
     "metadata": {},
     "output_type": "display_data"
    }
   ],
   "source": [
    "min_times = 20\n",
    "top10_pos, top10_dyn_pos = get_top10_window(full_set['Sentiment'] == 'Positive', min_times, 0.1)\n",
    "top10_neg, top10_dyn_neg = get_top10_window(full_set['Sentiment'] == 'Negative', min_times, 0.1)\n",
    "top10_neu, top10_dyn_neu = get_top10_window(full_set['Sentiment'] == 'Neutral', min_times, 0.1)\n",
    "top10_tot, top10_dyn_tot = get_top10_window(1, min_times, 0.1)"
   ]
  },
  {
   "cell_type": "markdown",
   "metadata": {},
   "source": [
    "## Finding \"biggest\" trends: PCA <a class=\"anchor\" id=\"find-PCA\"></a>\n",
    "### All tweets <a class=\"anchor\" id=\"all-PCA\"></a>\n",
    "I first try PCA which is not necessarily the most natural approach but is simple and has some interesting and straightforward interpretations. I try with all tweets to get overall trends. PCA projects data into linearly independent components using their covariance (sometimes correlation) matrix. This is of great use to remove redundancy and summarise multiple linearly correlated features into fewer components. It is then possible to project back, and find which features contribute most to the components, and how many components capture the spread of the data.\n",
    "\n",
    "With this in mind, an important limitation is that the method will not capture nonlinear dependencies within the data. Depending on the nature of the data, such dependencies may become more likely to occur. It is not clear if nonlinear behaviours will be significant in this tweet data, and also whether small fluctuations will be captured in the components, therefore I expect PCA to provide the main sources of variation within the data, likely missing smaller trends."
   ]
  },
  {
   "cell_type": "code",
   "execution_count": null,
   "metadata": {},
   "outputs": [],
   "source": [
    "from sklearn import decomposition\n",
    "\n",
    "pca_tot = decomposition.PCA(n_components=0.95)\n",
    "pca_tot.fit(top10_dyn_tot)\n",
    "top10_dyn_tot_PCA = pca_tot.fit_transform(top10_dyn_tot)\n",
    "var_comp_tot = pca_tot.explained_variance_ratio_[pca_tot.explained_variance_ratio_ >= 0.05]\n",
    "print(var_comp_tot)\n",
    "\n",
    "pca_topics_tot = [np.array(top10_tot)[np.flip(np.argsort(component))][:np.sum(np.flip(np.sort(component)) > 0.15)-1]\n",
    "for component in pca_tot.components_]\n",
    "top_topics_tot = [topics[0] for topics in pca_topics_tot][:len(var_comp_tot)]\n",
    "top_topics_tot_PCA = ['PCA '+str(i+1)+': '+topics[0] for i, topics in enumerate(pca_topics_tot)][:len(var_comp_tot)]"
   ]
  },
  {
   "cell_type": "markdown",
   "metadata": {},
   "source": [
    "I find that 4 components each capture 5% or more of the variance of the dataset, and when looking at the top feature contributing to each component one gets the name of four countries. When exploring components that capture less variance they degenerate and do not cover a specific event and are a mixture of too many events to distill. From here one can then determine that these 4 topics were the most recurrent in the timeframe we analyse involving the hashtag \"#UN\".\n",
    "\n",
    "Regarding the results themselves, they make intuitive sense to me. I provide a Wikipedia link pertaining to each event as a popular resource and take no responsibility as to the content of these links. In order of appearance in the PCA, they are:\n",
    "\n",
    "1. ukraine - The ongoing conflict taking place in Ukraine. https://en.wikipedia.org/wiki/2021–2022_Russo-Ukrainian_crisis\n",
    "\n",
    "2. myanmar - The military coup d'etat in Myanmar. https://en.wikipedia.org/wiki/2021_Myanmar_coup_d'état\n",
    "\n",
    "3. ethiopia - The Tigray offensive in the ongoing conflict in Ethiopia, between the Ethiopian government and a coalition of forces in the Tigray region. I had no knowledge about this conflict and while I now know the name of some of the parties involved, my knowledge in this topic is still close to none. https://en.wikipedia.org/wiki/2021_Tigray_offensive\n",
    "\n",
    "<!-- 3. israel - A 2 week period of mutual agression in the ongoing violence between Palestine and Israel. https://en.wikipedia.org/wiki/2021_Israel–Palestine_crisis -->"
   ]
  },
  {
   "cell_type": "code",
   "execution_count": null,
   "metadata": {},
   "outputs": [],
   "source": [
    "plt.plot(window_index[:,1],top10_dyn_tot_PCA[:,:len(var_comp_tot)]);\n",
    "plt.gca().legend(top_topics_tot_PCA);\n",
    "plt.xlim([datetime.datetime(2021, 1, 1), datetime.datetime(2022, 4, 30)]);\n",
    "plt.ylabel(\"Component value\"); plt.title(\"Principal Components over time\");"
   ]
  },
  {
   "cell_type": "markdown",
   "metadata": {},
   "source": [
    "When looking at each of those topics over time, one can see that they are tightly correlated with the principal components and indeed contribute to some of the largest peaks in the overall sliding window."
   ]
  },
  {
   "cell_type": "code",
   "execution_count": null,
   "metadata": {},
   "outputs": [],
   "source": [
    "top_words_tot_dyn = np.array([top10_dyn_tot[:,top10_tot.index(top_topics_tot[i])]\n",
    "                              for i in range(len(top_topics_tot))]).T\n",
    "plt.plot(window_index[:,0],top_words_tot_dyn)\n",
    "plt.gca().legend(top_topics_tot)\n",
    "plt.xlim([datetime.datetime(2021, 1, 1), datetime.datetime(2022, 4, 30)]);\n",
    "plt.ylabel(\"# of tweets\"); plt.title(\"Tweets over time\");"
   ]
  },
  {
   "cell_type": "markdown",
   "metadata": {},
   "source": [
    "### Positive tweets <a class=\"anchor\" id=\"positive-PCA\"></a>\n",
    "The same analysis on Negative and Neutral tweets resulted in roughly the same results, with the only other interesting result coming when analysing positive tweets, which as discussed above are proportionally fewer than the negative or neutral tweets. This also results in four components as seen below, which will be explored in a similar manner."
   ]
  },
  {
   "cell_type": "code",
   "execution_count": null,
   "metadata": {},
   "outputs": [],
   "source": [
    "pca_pos = decomposition.PCA(n_components=0.95)\n",
    "pca_pos.fit(top10_dyn_pos)\n",
    "top10_dyn_pos_PCA = pca_pos.fit_transform(top10_dyn_pos)\n",
    "var_comp_pos = pca_pos.explained_variance_ratio_[pca_pos.explained_variance_ratio_ >= 0.05]\n",
    "print(var_comp_pos)\n",
    "\n",
    "pca_topics_pos = [np.array(top10_pos)[np.flip(np.argsort(component))][:np.sum(np.flip(np.sort(component)) > 0.1)-1]\n",
    "for component in pca_pos.components_]\n",
    "top_topics_pos = [topics[0] for topics in pca_topics_pos][:len(var_comp_pos)]\n",
    "top_topics_pos_PCA = ['PCA '+str(i+1)+': '+topics[0] for i, topics in enumerate(pca_topics_pos)][:len(var_comp_pos)]"
   ]
  },
  {
   "cell_type": "code",
   "execution_count": null,
   "metadata": {},
   "outputs": [],
   "source": [
    "plt.plot(window_index[:,1],top10_dyn_pos_PCA[:,:len(var_comp_pos)]);\n",
    "plt.gca().legend(top_topics_pos_PCA);\n",
    "plt.xlim([datetime.datetime(2021, 1, 1), datetime.datetime(2022, 4, 30)]);\n",
    "plt.ylabel(\"Component value\"); plt.title('\"Positive\" Principal Components over time');"
   ]
  },
  {
   "cell_type": "markdown",
   "metadata": {},
   "source": [
    "I found this interesting as I was completely unaware of any of the topics here, so I shall detail them:\n",
    "\n",
    "1. peace - Relates to two peaks, one during the opening of the  UN general assembly and the second during the official United Nations day, where messages of peace were shared. (https://en.wikipedia.org/wiki/Seventy-sixth_session_of_the_United_Nations_General_Assembly & https://en.wikipedia.org/wiki/United_Nations_Day)\n",
    "2. unhq - Relates to the United Nations Headquarters and some of their most recent activity (https://en.wikipedia.org/wiki/Headquarters_of_the_United_Nations)\n",
    "3. bts - I initially thought this was some token error such as with \"amp\" which Twitter returned in the presence of the symbol \"&\". After analysing the tweets I realised this relates to popular Korean K-Pop band BTS who performed and spoke at the UN to much social media response during the UN General assembly. (https://en.wikipedia.org/wiki/BTS)\n",
    "4. women - Relates to international women's day, tweets relate to thanking and acknowledging women. (https://en.wikipedia.org/wiki/International_Women's_Day)"
   ]
  },
  {
   "cell_type": "code",
   "execution_count": null,
   "metadata": {},
   "outputs": [],
   "source": [
    "top_words_pos_dyn = np.array([top10_dyn_pos[:,top10_pos.index(top_topics_pos[i])]\n",
    "                              for i in range(len(top_topics_pos))]).T\n",
    "plt.plot(window_index[:,0],top_words_pos_dyn)\n",
    "plt.gca().legend(top_topics_pos)\n",
    "plt.xlim([datetime.datetime(2021, 1, 1), datetime.datetime(2022, 4, 30)]);\n",
    "plt.ylabel(\"# of tweets\"); plt.title(\"Positive tweets over time\");"
   ]
  },
  {
   "cell_type": "markdown",
   "metadata": {},
   "source": [
    "## Finding all trends: Hierarchical Clustering <a class=\"anchor\" id=\"find-clustering\"></a>\n",
    "I then decide that while PCA worked well to get the biggest trends, in order to be thorough one must use a method to systematically find and cluster peaks.\n",
    "\n",
    "For the first step I normalised the dynamics of the chosen keywords and kept only those that at any point in time were tweeted 25 times more than their usual median, or more than 100 times if their median was 0. This provided all the positions of what I would consider a peak or an above background amount of tweets."
   ]
  },
  {
   "cell_type": "code",
   "execution_count": null,
   "metadata": {},
   "outputs": [],
   "source": [
    "test = np.array([np.ceil(np.clip(feature / max(np.median(feature), 1) - 8, 0, 1)) for feature in top10_dyn_tot.T])\n",
    "peak_rows = np.array([row for row in test if np.sum(row > 0)])\n",
    "peak_row_names = np.array([top10_tot[i] for i,row in enumerate(test) if np.sum(row > 0)])\n",
    "peak_row_index = np.array([i for i,row in enumerate(test) if np.sum(row > 0)])\n",
    "\n",
    "plt.plot(peak_rows.T);\n",
    "print(len(peak_rows))"
   ]
  },
  {
   "cell_type": "code",
   "execution_count": null,
   "metadata": {},
   "outputs": [],
   "source": [
    "from scipy.cluster.hierarchy import dendrogram, linkage\n",
    "from sklearn.cluster import AgglomerativeClustering"
   ]
  },
  {
   "cell_type": "markdown",
   "metadata": {},
   "source": [
    "In order to decide how to compare the sequences, I took a relatively standard approach from Natural Language Processing. In said field when one wants to compare words, the words are embedded into a one-shot format, and the cosine similarity is used to classify the distance between words *ie* how similar or different they are. This seems ideal for this context, as I can identify for every given word, where it appears in time and then compare to every other word.\n",
    "\n",
    "For this approach I then simply converted every word's dynamics to a vector of zero's and one's, where one would mean that word is expressed at least 10 times more than their median overall at that position in time, as mentioned above. I then used hierarchical clustering as provided by SciKit-Learn with cosine affinity and single linkage. I reasoned that hierarchical clustering should work well in this scenario as it is likely some trends are subsets of other trends or some trends are pleiotropic and overlap with multiple other trends, so hierarchical clustering could help to sort things out correctly.\n",
    "\n",
    "Note: I think other clustering methods could also work well as long as they use a cosine distance based metric or something with a similar intuition."
   ]
  },
  {
   "cell_type": "code",
   "execution_count": null,
   "metadata": {},
   "outputs": [],
   "source": [
    "def plot_dendrogram(model, **kwargs):\n",
    "    # Create linkage matrix and then plot the dendrogram\n",
    "\n",
    "    # create the counts of samples under each node\n",
    "    counts = np.zeros(model.children_.shape[0])\n",
    "    n_samples = len(model.labels_)\n",
    "    for i, merge in enumerate(model.children_):\n",
    "        current_count = 0\n",
    "        for child_idx in merge:\n",
    "            if child_idx < n_samples:\n",
    "                current_count += 1  # leaf node\n",
    "            else:\n",
    "                current_count += counts[child_idx - n_samples]\n",
    "        counts[i] = current_count\n",
    "\n",
    "    linkage_matrix = np.column_stack(\n",
    "        [model.children_, model.distances_, counts]\n",
    "    ).astype(float)\n",
    "\n",
    "    # Plot the corresponding dendrogram\n",
    "    dendrogram(linkage_matrix, **kwargs)\n",
    "    return linkage_matrix\n",
    "\n",
    "def llf(id):\n",
    "    if id <= 96:\n",
    "        return str(peak_row_names[id])\n",
    "    else:\n",
    "        return '[%d %s]' % (id, 'beep')"
   ]
  },
  {
   "cell_type": "code",
   "execution_count": null,
   "metadata": {},
   "outputs": [],
   "source": [
    "peak_row_names[peak_row_names == '📺livestreaming'] = 'livestreaming'"
   ]
  },
  {
   "cell_type": "markdown",
   "metadata": {},
   "source": [
    "With hierarchical clustering it is often useful to represent clusters via a dendogram as below, and while it is a bit unwieldly it gives an idea of what the algorythm has done. We can already envisage sensible clusters and below I will classify them. The distance threshold is by default 0.7, and I found after fiddling with it for a while that it is actually a reasonable choice for this dataset.\n",
    "\n",
    "NOTE: I have rerun with new data, so new clusters arise. Also changed the threshold to include more topics for my training in peak lifetime detection so the plot looks considerably different to the anotated version. I have not taken the time to code a version that can anotate itself but may do so in future."
   ]
  },
  {
   "cell_type": "code",
   "execution_count": null,
   "metadata": {},
   "outputs": [],
   "source": [
    "import matplotlib\n",
    "matplotlib.rc_file_defaults()\n",
    "cos_dis_thrs = 0.7\n",
    "clustering = AgglomerativeClustering(distance_threshold=cos_dis_thrs, n_clusters=None,\n",
    "                                linkage='average', affinity='cosine', compute_distances=True)\n",
    "clustering = clustering.fit(peak_rows)\n",
    "plt.figure(figsize=(16, 30))\n",
    "lm = plot_dendrogram(clustering, color_threshold = cos_dis_thrs, labels = peak_row_names, orientation = 'right',\n",
    "                    leaf_font_size=14)\n",
    "plt.savefig('dendogram_trends.svg')"
   ]
  },
  {
   "cell_type": "markdown",
   "metadata": {},
   "source": [
    "When annotated on Inkscape, calculating only up until February 2022 this looks as:\n",
    "<div>\n",
    "<img src=\"dendogram_trends.png\" width=\"1100\"/>\n",
    "</div>"
   ]
  },
  {
   "cell_type": "code",
   "execution_count": null,
   "metadata": {},
   "outputs": [],
   "source": [
    "sns.set(rc = {'figure.figsize':(16,8)})\n",
    "words_tot_clust = ['nato']\n",
    "words_tot_clust_dyn = np.array([top10_dyn_tot[:,top10_tot.index(words_tot_clust[i])]\n",
    "                              for i in range(len(words_tot_clust))]).T\n",
    "plt.plot(window_index[:,0],words_tot_clust_dyn)\n",
    "plt.gca().legend(words_tot_clust)\n",
    "plt.xlim([datetime.datetime(2021, 1, 1), datetime.datetime(2022, 4, 30)]);\n",
    "plt.ylabel(\"# of tweets\"); plt.title(\"Tweets over time\");"
   ]
  },
  {
   "cell_type": "code",
   "execution_count": null,
   "metadata": {},
   "outputs": [],
   "source": [
    "[print(i,peak_row_names[clustering.labels_ == i]) for i in range(clustering.n_clusters_) if \n",
    " len(peak_row_names[clustering.labels_ == i]) > 1];"
   ]
  },
  {
   "cell_type": "markdown",
   "metadata": {},
   "source": [
    "## Topic lifetime (Random Forests)\n",
    "In this section I explore how long keywords and clustered topic exist. Indeed I plot a comparison of how long a particular word stays \"active\" vs how many times it is tweeted in the analysed timeframe. One can observe there is indeed not a direct correlation, if anything it seems that topics either are tweeted in large quantities or over long periods of time but not both."
   ]
  },
  {
   "cell_type": "code",
   "execution_count": null,
   "metadata": {},
   "outputs": [],
   "source": [
    "ax = sns.jointplot(x=np.sum(peak_rows,axis=1), y=np.sum(top10_dyn_tot[:,peak_row_index],axis=0)/24)\n",
    "ax.set_axis_labels(xlabel=\"Hours actively tweeted\", ylabel=\"Smoothed total tweet number\");"
   ]
  },
  {
   "cell_type": "markdown",
   "metadata": {},
   "source": [
    "I initially wanted to model the dynamics of the tweets over time with PROPHET or something of the sort, yet the tweets have essentially little to no influence on themselves. Meaning, there is no feedback to change the future ammount of tweets and most if not all of the dynamics are determined by external events. This is of course natural as we are dealing with worldwide events. For this reason I felt that a reasonable prediction would be how long a word or topic will be tweeted about. The reasoning behind this is that even the most important political events eventually stop being relevant, even if over long timescales. Especially since we're dealing with words, conceivably an event continues but a specific topic within that event is no longer relevant and no longer tweeted about."
   ]
  },
  {
   "cell_type": "code",
   "execution_count": null,
   "metadata": {},
   "outputs": [],
   "source": [
    "def get_bursts(burst_list, masked_list, normal_list):\n",
    "    start_burst,end_burst = [],[]\n",
    "    for i, val in enumerate(masked_list[:-1]):\n",
    "        if (masked_list[i] == 0) & (masked_list[i+1] > 0):\n",
    "            start_burst.append(i+1)\n",
    "        if (len(start_burst) > len(end_burst)) & (normal_list[i] <= 20) & (masked_list[i+1] == 0):\n",
    "            end_burst.append(i+1)\n",
    "    \n",
    "    for i in range(len(end_burst)):\n",
    "        burst_list.append(normal_list[start_burst[i]:end_burst[i]])\n",
    "        \n",
    "    return(burst_list)"
   ]
  },
  {
   "cell_type": "code",
   "execution_count": null,
   "metadata": {},
   "outputs": [],
   "source": [
    "burst_list = []\n",
    "masked_dynamics = peak_rows * top10_dyn_tot[:,peak_row_index].T\n",
    "\n",
    "for masked, normal in zip(masked_dynamics, top10_dyn_tot[:,peak_row_index].T):\n",
    "    burst_list = get_bursts(burst_list, masked, normal)\n",
    "    \n",
    "burst_acum_list = [np.cumsum(burst) for burst in burst_list]"
   ]
  },
  {
   "cell_type": "code",
   "execution_count": null,
   "metadata": {},
   "outputs": [],
   "source": [
    "def get_ongoing_bursts(burst_list, masked_list, normal_list):\n",
    "    start_burst,end_burst = [],[]\n",
    "    for i, val in enumerate(masked_list[:-1]):\n",
    "        if (masked_list[i] == 0) & (masked_list[i+1] > 0):\n",
    "            start_burst.append(i+1)\n",
    "        if (len(start_burst) > len(end_burst)) & (normal_list[i] <= 20) & (masked_list[i+1] == 0):\n",
    "            end_burst.append(i+1)\n",
    "\n",
    "    if len(start_burst) > len(end_burst):\n",
    "        for start in start_burst:\n",
    "            if (end_burst == []):\n",
    "                burst_list.append(normal_list[start:])\n",
    "                break\n",
    "            elif (start > end_burst[-1]):\n",
    "                burst_list.append(normal_list[start:])\n",
    "                break\n",
    "    \n",
    "    return(burst_list)"
   ]
  },
  {
   "cell_type": "code",
   "execution_count": null,
   "metadata": {},
   "outputs": [],
   "source": [
    "ongoing_burst_list, ongoing_burst_index = [], []\n",
    "temp = 0\n",
    "\n",
    "for i, (masked, normal) in enumerate(zip(masked_dynamics, top10_dyn_tot[:,peak_row_index].T)):\n",
    "    ongoing_burst_list = get_ongoing_bursts(ongoing_burst_list, masked, normal)\n",
    "    if temp < len(ongoing_burst_list):\n",
    "        ongoing_burst_index.append(i)\n",
    "        temp = len(ongoing_burst_list)\n",
    "    \n",
    "ongoing_burst_acum_list = [np.cumsum(burst) for burst in ongoing_burst_list]"
   ]
  },
  {
   "cell_type": "markdown",
   "metadata": {},
   "source": [
    "I generate variables from my data, I look at every peak in use of a specific word, and how long each peak lasts as the target. As training input I take the trajectory at fixed intervals, I make use of the fact that some words last a long time and can take several sets from a single peak, some at the beginning and some at the end.\n",
    "\n",
    "To ensure that my model will be good at predicting time for trends that are just beginning as well as trends that will soon end, and everything in between. When creating the datasets, I use a log2 on the length of the peaks to decide how many sets I will extract from each peak. This way, if the peak is short I recover a relatively high number of peaks that still scales with size, which is important for precision in short timescales. Furthermore if the peak is long, I recover more sets, but don't overdo it, as if I take too many I would get redundant datasets, leading to a trivial overfitting.\n",
    "\n",
    "Finally, as the data most likely contains the most important information as to the future trend in the most recent dates, I collect the data in such a way that it is sparse at older timepoints and dense near later timepoints along each peak."
   ]
  },
  {
   "cell_type": "code",
   "execution_count": null,
   "metadata": {},
   "outputs": [],
   "source": [
    "def get_assym_split(vec):\n",
    "    space_vec = len(vec)*np.array([1-1/(50-1)*(50**i-1) for i in np.arange(0,1,0.1)])\n",
    "    return np.flip(np.round(space_vec)-1).astype(np.int16)\n",
    "\n",
    "get_assym_split(np.zeros(72))"
   ]
  },
  {
   "cell_type": "code",
   "execution_count": null,
   "metadata": {},
   "outputs": [],
   "source": [
    "min_split_size = 50\n",
    "full_bursts = []\n",
    "for (burst, acum_burst) in zip(burst_list, burst_acum_list):\n",
    "    if len(burst) > min_split_size:\n",
    "        num_sec = np.floor(np.log2(len(burst))).astype(np.int16)-2\n",
    "        sec_size = np.floor(len(burst)/num_sec).astype(np.int16)\n",
    "        for split in range(sec_size, len(burst)-num_sec, sec_size):\n",
    "#             print(len(burst),num_sec,sec_size,split,len(burst[:-split]))\n",
    "            training = np.concatenate([[len(burst[:-split])],\n",
    "#                              [sec[-1] for sec in np.array_split(burst[:-split],10)],\n",
    "#                              [sec[-1] for sec in np.array_split(acum_burst[:-split],10)],\n",
    "                             [burst[sec] for sec in get_assym_split(burst[:-split])],\n",
    "                             [acum_burst[sec] for sec in get_assym_split(acum_burst[:-split])],\n",
    "                             [len(burst)]\n",
    "                            ])\n",
    "            full_bursts.append(training)\n",
    "\n",
    "full_bursts = np.array(full_bursts)\n",
    "print(len(full_bursts))"
   ]
  },
  {
   "cell_type": "markdown",
   "metadata": {},
   "source": [
    "As I am looking at a wide range of timescales, the error will naturally get larger with greater timescales so it is natural to take the logarithm of the y data. I like taking log2 as I find it easier to read data when plotted than natural log. The data looks nicely distributed and ready to train."
   ]
  },
  {
   "cell_type": "code",
   "execution_count": null,
   "metadata": {},
   "outputs": [],
   "source": [
    "from sklearn.model_selection import train_test_split\n",
    "X, y = full_bursts[:,:-1], full_bursts[:,-1]\n",
    "\n",
    "y = y/24\n",
    "y = np.log2(y)\n",
    "\n",
    "X_train, X_test, y_train, y_test = train_test_split(X, y, test_size=0.3, random_state=42)\n",
    "sns.set(rc = {'figure.figsize':(16,8)})\n",
    "ax = sns.histplot(y);\n",
    "ax.set_xticks(np.arange(1,9,1))\n",
    "ax.set_xticklabels(np.exp2(np.arange(1,9,1)).astype(np.int16));\n",
    "ax.set(title='Length of training peaks');"
   ]
  },
  {
   "cell_type": "markdown",
   "metadata": {},
   "source": [
    "I tried many types of models, but in the end something relative simple worked. I have found the \"ExtraTrees\" subpackage from sklearn works quite well."
   ]
  },
  {
   "cell_type": "code",
   "execution_count": null,
   "metadata": {},
   "outputs": [],
   "source": [
    "from sklearn.model_selection import cross_val_score\n",
    "from sklearn.ensemble import ExtraTreesRegressor\n",
    "\n",
    "reg = ExtraTreesRegressor(n_estimators=1000, random_state=42).fit(X_train, y_train)\n",
    "print(reg.score(X_test, y_test))"
   ]
  },
  {
   "cell_type": "markdown",
   "metadata": {},
   "source": [
    "The regression score is reasonably good and the predictions for the test data look like a solid correlation as seen below, so one can have some decent confidence in this model. Of course when dealing with data depending on the news, things can change dramatically. Hopefully this model captures sufficient variability that this will not be a major issue."
   ]
  },
  {
   "cell_type": "code",
   "execution_count": null,
   "metadata": {},
   "outputs": [],
   "source": [
    "sns.set(rc = {'figure.figsize':(6,6)})\n",
    "ax = sns.scatterplot(x=y_test,y=reg.predict(X_test));\n",
    "ax.set(ylabel=\"Predicted Number of Days\",xlabel=\"Real Number of Days\");\n",
    "ax.set_xticks(np.arange(1,9,1))\n",
    "ax.set_xticklabels(np.exp2(np.arange(1,9,1)).astype(np.int16));\n",
    "ax.set_yticks(np.arange(1,9,1))\n",
    "ax.set_yticklabels(np.exp2(np.arange(1,9,1)).astype(np.int16));"
   ]
  },
  {
   "cell_type": "code",
   "execution_count": null,
   "metadata": {},
   "outputs": [],
   "source": [
    "ongoing_full_bursts = []\n",
    "for (burst, acum_burst) in zip(ongoing_burst_list, ongoing_burst_acum_list):\n",
    "    if len(burst) > 24:\n",
    "        training = np.concatenate([[len(burst)],\n",
    "#                         [sec[-1] for sec in np.array_split(burst,10)],\n",
    "#                         [sec[-1] for sec in np.array_split(acum_burst,10)]\n",
    "                        [burst[sec] for sec in get_assym_split(burst)],\n",
    "                        [acum_burst[sec] for sec in get_assym_split(acum_burst)]\n",
    "                        ])\n",
    "        ongoing_full_bursts.append(training)\n",
    "\n",
    "ongoing_full_bursts = np.array(ongoing_full_bursts)"
   ]
  },
  {
   "cell_type": "code",
   "execution_count": null,
   "metadata": {},
   "outputs": [],
   "source": [
    "# plt.plot(ongoing_burst_list[0])"
   ]
  },
  {
   "cell_type": "code",
   "execution_count": null,
   "metadata": {},
   "outputs": [],
   "source": [
    "ongoing_top_words = pd.DataFrame([peak_row_names[ongoing_burst_index],\n",
    "    np.array([len(burst)/24 for burst in ongoing_burst_list]),\n",
    "    np.exp2(reg.predict(ongoing_full_bursts))]).transpose()\n",
    "ongoing_top_words.columns = [\"Word\",\"Current Duration\",\"Predicted Lifetime\"]"
   ]
  },
  {
   "cell_type": "code",
   "execution_count": null,
   "metadata": {},
   "outputs": [],
   "source": [
    "melted_ongoing_top_words = ongoing_top_words.melt(id_vars='Word', var_name=\"Keys\", value_name=\"Days\")"
   ]
  },
  {
   "cell_type": "code",
   "execution_count": null,
   "metadata": {},
   "outputs": [],
   "source": [
    "sns.set(rc = {'figure.figsize':(16,8)})\n",
    "sns.barplot(data = melted_ongoing_top_words, x= \"Word\", y= \"Days\", hue= \"Keys\");\n",
    "plt.xticks(rotation=45);"
   ]
  },
  {
   "cell_type": "markdown",
   "metadata": {},
   "source": [
    "Here are provided predictions of how many days each of these key words will remain \"active\". Let's check in a few weeks/months to see how close the predictions are."
   ]
  },
  {
   "cell_type": "markdown",
   "metadata": {},
   "source": [
    "## Summary <a class=\"anchor\" id=\"summary\"></a>\n",
    "In summary I have analysed tweets ranging from the 1st of January 2021 to the 24th of February 2022 containing the #UN in English. Through a combination of statistics, deep learning, dimensionality reduction and clustering I have been able to distill the main talking points for twitter users as well as their sentiment in regards to these topics. Overall I have found that there is a substantial response to outbreaks of conflict, in particular those that receive extensive media coverage. I find 4 \"large\" trends that encompass many different subtopics and which received most of the attention of Twitter users, and 13 trends overall which had varying levels of response but all had clear peaks at specific timepoints.\n",
    "\n",
    "Note the above quantities have likely changed as time passes but I will not change them with every update.\n",
    "\n",
    "I have further trained a random forest model to predict how long ongoing trends will remain actively tweeted about. A next step which I will implement soon is to mount this code either fot Git or DevOps to run the code daily and update clusters and predictions.\n",
    "\n",
    "Further avenues of research are to test these approaches on longer timescales to try to identify cyclic patterns, some being obvious such as relating to the opening of the general assembly each year; this may also identify the frequency of \"trending\" events related to the UN. Another interesting approach would be to try with different hashtags as controls, ideally one completely unrelated dataset and one closely related dataset to serve as negative and positive controls respectively. Overall I find this analysis useful to understand user response to political events and the results suggests this is a valid pipeline for extracting information regarding other topics on social media."
   ]
  },
  {
   "cell_type": "code",
   "execution_count": null,
   "metadata": {},
   "outputs": [],
   "source": []
  }
 ],
 "metadata": {
  "kernelspec": {
   "display_name": "Python 3 (ipykernel)",
   "language": "python",
   "name": "python3"
  },
  "language_info": {
   "codemirror_mode": {
    "name": "ipython",
    "version": 3
   },
   "file_extension": ".py",
   "mimetype": "text/x-python",
   "name": "python",
   "nbconvert_exporter": "python",
   "pygments_lexer": "ipython3",
   "version": "3.8.10"
  }
 },
 "nbformat": 4,
 "nbformat_minor": 4
}
